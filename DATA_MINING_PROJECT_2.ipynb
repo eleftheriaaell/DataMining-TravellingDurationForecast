{
  "nbformat": 4,
  "nbformat_minor": 0,
  "metadata": {
    "colab": {
      "name": "TEDE_PROJECT_2.ipynb",
      "provenance": [],
      "collapsed_sections": [
        "EwpZ6N1861v-",
        "bzmsKzVp7Jpf",
        "QfiiviZ97QTO",
        "xOiuGbiH7WIB",
        "yXFrRRsc7c9z",
        "Owi453ykIsoT",
        "RvoX9yLqJIdM",
        "tAUxjtKuPPMP",
        "D25moY43fb9b",
        "K1-Xc9gckCmC",
        "QAgm0zoalUoa",
        "FXeeyNaq1Lp6",
        "ozKvvypn1Q4e",
        "hNxq1VyJ0I6H",
        "MD7qVPdz0OwF"
      ]
    },
    "kernelspec": {
      "name": "python3",
      "display_name": "Python 3"
    },
    "language_info": {
      "name": "python"
    },
    "accelerator": "GPU"
  },
  "cells": [
    {
      "cell_type": "markdown",
      "source": [
        "**A PROJECT BY:**\n",
        "\n",
        "ΕΛΕΥΘΕΡΙΑ ΕΛΛΗΝΑ 1115201800228\n",
        "\n",
        "ΣΤΥΛΙΑΝΟΣ ΨΑΡΑ 1115201800226"
      ],
      "metadata": {
        "id": "UiB5FMMGXVw0"
      }
    },
    {
      "cell_type": "code",
      "execution_count": 68,
      "metadata": {
        "id": "dSQU60HUG9CV"
      },
      "outputs": [],
      "source": [
        "import pandas as pd\n",
        "train = pd.read_csv('./drive/MyDrive/train.csv')\n",
        "test = pd.read_csv('./drive/MyDrive/test.csv')\n",
        "target = pd.read_csv('./drive/MyDrive/target.csv')"
      ]
    },
    {
      "cell_type": "markdown",
      "source": [
        "# 1. DATA ANALYSIS"
      ],
      "metadata": {
        "id": "EwpZ6N1861v-"
      }
    },
    {
      "cell_type": "markdown",
      "source": [
        "## Ερώτημα 1"
      ],
      "metadata": {
        "id": "bzmsKzVp7Jpf"
      }
    },
    {
      "cell_type": "code",
      "source": [
        "from statistics import stdev\n",
        "mean_value = train['trip_duration'].mean()\n",
        "\n",
        "max_duration = mean_value + 2*stdev(train['trip_duration'])\n",
        "\n",
        "train = train.loc[train.trip_duration <= max_duration]\n",
        "\n",
        "statistics = train.describe()\n",
        "print(statistics)"
      ],
      "metadata": {
        "colab": {
          "base_uri": "https://localhost:8080/"
        },
        "id": "P0Xi2iXPM6kC",
        "outputId": "b0f78ecc-aba1-4e2c-ebfd-e2c0831da0a8"
      },
      "execution_count": 69,
      "outputs": [
        {
          "output_type": "stream",
          "name": "stdout",
          "text": [
            "          vendor_id  passenger_count  pickup_longitude  pickup_latitude  \\\n",
            "count  1.165250e+06     1.165250e+06      1.165250e+06     1.165250e+06   \n",
            "mean   1.534260e+00     1.664723e+00     -7.397346e+01     4.075090e+01   \n",
            "std    4.988251e-01     1.314119e+00      6.230739e-02     3.170862e-02   \n",
            "min    1.000000e+00     0.000000e+00     -1.219332e+02     3.435970e+01   \n",
            "25%    1.000000e+00     1.000000e+00     -7.399186e+01     4.073732e+01   \n",
            "50%    2.000000e+00     1.000000e+00     -7.398175e+01     4.075408e+01   \n",
            "75%    2.000000e+00     2.000000e+00     -7.396733e+01     4.076835e+01   \n",
            "max    2.000000e+00     9.000000e+00     -6.133553e+01     4.437194e+01   \n",
            "\n",
            "       dropoff_longitude  dropoff_latitude  trip_duration  \n",
            "count       1.165250e+06      1.165250e+06   1.165250e+06  \n",
            "mean       -7.397340e+01      4.075182e+01   8.370149e+02  \n",
            "std         6.159180e-02      3.645359e-02   6.590678e+02  \n",
            "min        -1.219332e+02      3.218114e+01   1.000000e+00  \n",
            "25%        -7.399133e+01      4.073592e+01   3.970000e+02  \n",
            "50%        -7.397977e+01      4.075453e+01   6.620000e+02  \n",
            "75%        -7.396303e+01      4.076981e+01   1.073000e+03  \n",
            "max        -6.133553e+01      4.392103e+01   1.155600e+04  \n"
          ]
        }
      ]
    },
    {
      "cell_type": "markdown",
      "source": [
        "## Ερώτημα 2"
      ],
      "metadata": {
        "id": "QfiiviZ97QTO"
      }
    },
    {
      "cell_type": "code",
      "source": [
        "#LONGITUDE AND LATITUDE INSIDE NY\n",
        "train = train.loc[(train['pickup_longitude'] > -74.03) & (train['dropoff_longitude'] < -73.75) & (train['pickup_longitude'] < -73.75) & (train['dropoff_longitude'] > -74.03)]\n",
        "train = train.loc[(train['pickup_latitude'] > 40.63) & (train['dropoff_latitude'] < 40.85) & (train['pickup_latitude'] < 40.85) & (train['dropoff_latitude'] > 40.63)]"
      ],
      "metadata": {
        "id": "VngzDHL5Y1XA"
      },
      "execution_count": 70,
      "outputs": []
    },
    {
      "cell_type": "markdown",
      "source": [
        "## Ερώτημα 3"
      ],
      "metadata": {
        "id": "xOiuGbiH7WIB"
      }
    },
    {
      "cell_type": "code",
      "source": [
        "#TO_DATETIME\n",
        "\n",
        "train['pickup_datetime'] = pd.to_datetime(train['pickup_datetime'])\n",
        "train['dropoff_datetime'] = pd.to_datetime(train['dropoff_datetime'])\n",
        "\n",
        "test['pickup_datetime'] = pd.to_datetime(test['pickup_datetime'])"
      ],
      "metadata": {
        "id": "Gc32HuQ4bpy-"
      },
      "execution_count": 71,
      "outputs": []
    },
    {
      "cell_type": "code",
      "source": [
        "#DAY_PERIOD\n",
        "\n",
        "import datetime\n",
        "\n",
        "time = train['pickup_datetime'].dt.time\n",
        "\n",
        "period = []\n",
        "for i in time:\n",
        "  if (i >= datetime.time(6, 0)) & (i <= datetime.time(11, 59)):\n",
        "    period.append('Morning')\n",
        "  elif (i >= datetime.time(12, 0)) & (i <= datetime.time(15, 59)):\n",
        "    period.append('Afternoon')\n",
        "  elif (i >= datetime.time(16, 0)) & (i <= datetime.time(21, 59)):\n",
        "    period.append('Evening')\n",
        "  else:\n",
        "    period.append('Late_Night')\n",
        "\n",
        "train['day_period_pickup'] = period\n",
        "\n",
        "time = train['dropoff_datetime'].dt.time\n",
        "\n",
        "period = []\n",
        "for i in time:\n",
        "  if (i >= datetime.time(6, 0)) & (i <= datetime.time(11, 59)):\n",
        "    period.append('Morning')\n",
        "  elif (i >= datetime.time(12, 0)) & (i <= datetime.time(15, 59)):\n",
        "    period.append('Afternoon')\n",
        "  elif (i >= datetime.time(16, 0)) & (i <= datetime.time(21, 59)):\n",
        "    period.append('Evening')\n",
        "  else:\n",
        "    period.append('Late_Night')\n",
        "\n",
        "train['day_period_dropoff'] = period\n",
        "\n",
        "time = test['pickup_datetime'].dt.time\n",
        "\n",
        "period = []\n",
        "for i in time:\n",
        "  if (i >= datetime.time(6, 0)) & (i <= datetime.time(11, 59)):\n",
        "    period.append('Morning')\n",
        "  elif (i >= datetime.time(12, 0)) & (i <= datetime.time(15, 59)):\n",
        "    period.append('Afternoon')\n",
        "  elif (i >= datetime.time(16, 0)) & (i <= datetime.time(21, 59)):\n",
        "    period.append('Evening')\n",
        "  else:\n",
        "    period.append('Late_Night')\n",
        "\n",
        "test['day_period_pickup'] = period"
      ],
      "metadata": {
        "id": "b2ebSUKMd698"
      },
      "execution_count": 72,
      "outputs": []
    },
    {
      "cell_type": "code",
      "source": [
        "#DAY_NAME\n",
        "\n",
        "train['day_name_pickup'] = train['pickup_datetime'].dt.day_name()\n",
        "train['day_name_dropoff'] = train['dropoff_datetime'].dt.day_name()\n",
        "\n",
        "test['day_name_pickup'] = test['pickup_datetime'].dt.day_name()"
      ],
      "metadata": {
        "id": "1Zyjyvq8kosn"
      },
      "execution_count": 73,
      "outputs": []
    },
    {
      "cell_type": "code",
      "source": [
        "#MONTH\n",
        "\n",
        "train['month_pickup'] = train['pickup_datetime'].dt.month\n",
        "train['month_dropoff'] = train['dropoff_datetime'].dt.month\n",
        "for i in train['month_pickup']:\n",
        "  if i == 7:\n",
        "    print(i)\n",
        "test['month_pickup'] = test['pickup_datetime'].dt.month"
      ],
      "metadata": {
        "id": "VcghmGWBmTS5"
      },
      "execution_count": 74,
      "outputs": []
    },
    {
      "cell_type": "code",
      "source": [
        "#HOUR\n",
        "\n",
        "train['hour_pickup'] = train['pickup_datetime'].dt.hour\n",
        "train['hour_dropoff'] = train['dropoff_datetime'].dt.hour\n",
        "\n",
        "test['hour_pickup'] = test['pickup_datetime'].dt.hour"
      ],
      "metadata": {
        "id": "4LkRgrM_nWo6"
      },
      "execution_count": 75,
      "outputs": []
    },
    {
      "cell_type": "code",
      "source": [
        "#YEAR\n",
        "\n",
        "train['year_pickup'] = train['pickup_datetime'].dt.year\n",
        "train['year_dropoff'] = train['dropoff_datetime'].dt.year\n",
        "\n",
        "test['year_pickup'] = test['pickup_datetime'].dt.year"
      ],
      "metadata": {
        "id": "RCX66uBvnZGT"
      },
      "execution_count": 76,
      "outputs": []
    },
    {
      "cell_type": "code",
      "source": [
        "#SEASON\n",
        "\n",
        "\n",
        "season = []\n",
        "for i in train['month_pickup']:\n",
        "  if (i == 12) | (i == 1) | (i == 2):\n",
        "    season.append('Winter')\n",
        "  elif (i == 3) | (i == 4) | (i == 5):\n",
        "    season.append('Spring')\n",
        "  elif (i == 6) | (i == 7) | (i == 8):\n",
        "    season.append('Summer')\n",
        "  else:\n",
        "    season.append('Autumn')\n",
        "\n",
        "train['season_pickup'] = season\n",
        "\n",
        "season = []\n",
        "for i in train['month_dropoff']:\n",
        "  if (i == 12) | (i == 1) | (i == 2):\n",
        "    season.append('Winter')\n",
        "  elif (i == 3) | (i == 4) | (i == 5):\n",
        "    season.append('Spring')\n",
        "  elif (i == 6) | (i == 7) | (i == 8):\n",
        "    season.append('Summer')\n",
        "  else:\n",
        "    season.append('Autumn')\n",
        "\n",
        "train['season_dropoff'] = season\n",
        "\n",
        "season = []\n",
        "for i in test['month_pickup']:\n",
        "  if (i == 12) | (i == 1) | (i == 2):\n",
        "    season.append('Winter')\n",
        "  elif (i == 3) | (i == 4) | (i == 5):\n",
        "    season.append('Spring')\n",
        "  elif (i == 6) | (i == 7) | (i == 8):\n",
        "    season.append('Summer')\n",
        "  else:\n",
        "    season.append('Autumn')\n",
        "\n",
        "test['season_pickup'] = season"
      ],
      "metadata": {
        "id": "MhXEMyJWn0lu"
      },
      "execution_count": 77,
      "outputs": []
    },
    {
      "cell_type": "markdown",
      "source": [
        "**ΑΠΕΙΚΟΝΙΖΟΝΤΕ ΜΟΝΟ ΤΑ ΙΣΤΟΓΡΑΜΜΑΤΑ ΤΩΝ PICK UP DAYS ΚΑΘΩΣ ΤΑ ΙΣΤΟΓΡΑΜΜΑΤΑ ΤΩΝ DROP OFF DAYS ΕΙΝΑΙ ΤΑ ΙΔΙΑ**"
      ],
      "metadata": {
        "id": "qbg80P6FTvCA"
      }
    },
    {
      "cell_type": "code",
      "source": [
        "#HISTOGRAM FOR PICK UP DAYS\n",
        "train['day_name_pickup'].value_counts().plot(kind = 'bar')"
      ],
      "metadata": {
        "colab": {
          "base_uri": "https://localhost:8080/",
          "height": 330
        },
        "id": "zsaU6_HYs5ll",
        "outputId": "50157ca2-a9b7-4ae9-86cc-e067e1f44679"
      },
      "execution_count": 78,
      "outputs": [
        {
          "output_type": "execute_result",
          "data": {
            "text/plain": [
              "<matplotlib.axes._subplots.AxesSubplot at 0x7f08a6298ed0>"
            ]
          },
          "metadata": {},
          "execution_count": 78
        },
        {
          "output_type": "display_data",
          "data": {
            "text/plain": [
              "<Figure size 432x288 with 1 Axes>"
            ],
            "image/png": "[encoded data removed]"
          },
          "metadata": {
            "needs_background": "light"
          }
        }
      ]
    },
    {
      "cell_type": "markdown",
      "source": [
        "Παρατήρουμε ότι τις Παρασκευές καθώς και το Σάββατο, το πλήθος των διαδρομών που πραγματοποιούνται είναι μεγαλύτερο από τς υπόλοιπες μέρες. Αποτέλεσμα λογικό, αφού είναι μέρες που ο κόσμος εκμεταλέυεται αφού την επόμενη μέρα δεν εργάζεται."
      ],
      "metadata": {
        "id": "n5FvPJ0NPiWs"
      }
    },
    {
      "cell_type": "code",
      "source": [
        "#HISTOGRAM FOR TRIPS PER DAY_PERIOD PICK UP\n",
        "train['day_period_pickup'].value_counts().plot(kind = 'bar')"
      ],
      "metadata": {
        "colab": {
          "base_uri": "https://localhost:8080/",
          "height": 327
        },
        "id": "OsVlsjZkxOAW",
        "outputId": "5bc18193-e3b7-4486-a37d-091e278bbd85"
      },
      "execution_count": 79,
      "outputs": [
        {
          "output_type": "execute_result",
          "data": {
            "text/plain": [
              "<matplotlib.axes._subplots.AxesSubplot at 0x7f08d980d710>"
            ]
          },
          "metadata": {},
          "execution_count": 79
        },
        {
          "output_type": "display_data",
          "data": {
            "text/plain": [
              "<Figure size 432x288 with 1 Axes>"
            ],
            "image/png": "[encoded data removed]"
          },
          "metadata": {
            "needs_background": "light"
          }
        }
      ]
    },
    {
      "cell_type": "markdown",
      "source": [
        "Παρατηρούμε ότι το απόγευμα είναι η περιόδος της μέρας με τα περισσότερα ταξίδια, αφού συνήθως ο περισσότερος κόσμος φεύγει από τη δουλειά του για να πάει σπίτι ή βόλτα."
      ],
      "metadata": {
        "id": "yfQyl4iwRIGE"
      }
    },
    {
      "cell_type": "code",
      "source": [
        "#HISTOGRAM FOR TRIPS PER MONTH PICK UP\n",
        "train['month_pickup'].value_counts().plot(kind = 'bar')"
      ],
      "metadata": {
        "colab": {
          "base_uri": "https://localhost:8080/",
          "height": 279
        },
        "id": "lX6WeMxvzN5S",
        "outputId": "17a3bd18-3247-4e40-8261-2df330606e5a"
      },
      "execution_count": 80,
      "outputs": [
        {
          "output_type": "execute_result",
          "data": {
            "text/plain": [
              "<matplotlib.axes._subplots.AxesSubplot at 0x7f08d97e3b90>"
            ]
          },
          "metadata": {},
          "execution_count": 80
        },
        {
          "output_type": "display_data",
          "data": {
            "text/plain": [
              "<Figure size 432x288 with 1 Axes>"
            ],
            "image/png": "[encoded data removed]"
          },
          "metadata": {
            "needs_background": "light"
          }
        }
      ]
    },
    {
      "cell_type": "markdown",
      "source": [
        "Παρατηρούμε ότι ο μήνας με τις περισσότερες διαδρομές είναι ο Μάρτιος. Θα μπορούσαμε να υποθέσουμε ότι είναι ο πρώτος μήνας μετά τον εγκλεισμό του χειμώνα, όπου ο κόσμος αρχίζει να χαίρετε την άνοιξη."
      ],
      "metadata": {
        "id": "cM_sDnAOUFRl"
      }
    },
    {
      "cell_type": "code",
      "source": [
        "#HISTOGRAM FOR MEAN TIME OF TRIP PER PICKUP HOUR\n",
        "train.groupby('hour_pickup')['trip_duration'].mean().plot(kind = 'bar')"
      ],
      "metadata": {
        "colab": {
          "base_uri": "https://localhost:8080/",
          "height": 300
        },
        "id": "vQH1XhpA136-",
        "outputId": "445fda70-e12e-45a0-bec9-ef394ab25e8d"
      },
      "execution_count": 81,
      "outputs": [
        {
          "output_type": "execute_result",
          "data": {
            "text/plain": [
              "<matplotlib.axes._subplots.AxesSubplot at 0x7f08d96f3690>"
            ]
          },
          "metadata": {},
          "execution_count": 81
        },
        {
          "output_type": "display_data",
          "data": {
            "text/plain": [
              "<Figure size 432x288 with 1 Axes>"
            ],
            "image/png": "[encoded data removed]"
          },
          "metadata": {
            "needs_background": "light"
          }
        }
      ]
    },
    {
      "cell_type": "markdown",
      "source": [
        "Παρατηρούμε για ακόμη μία φορά ότι οι περισσότερες διαδρομές γίνονται στις 15:00 με 16:00, για τους λόγους που αναφέραμε παραπάνω."
      ],
      "metadata": {
        "id": "rS5wzwOJU3uN"
      }
    },
    {
      "cell_type": "code",
      "source": [
        "#HISTOGRAM FOR MEAN TIME OF TRIP PER DAY_PERIOD PICK UP\n",
        "train.groupby('day_period_pickup')['trip_duration'].mean().plot(kind = 'bar')"
      ],
      "metadata": {
        "colab": {
          "base_uri": "https://localhost:8080/",
          "height": 341
        },
        "id": "YopzH7nm6C7D",
        "outputId": "21e160c1-5bd4-4413-afce-210bc45e610c"
      },
      "execution_count": 82,
      "outputs": [
        {
          "output_type": "execute_result",
          "data": {
            "text/plain": [
              "<matplotlib.axes._subplots.AxesSubplot at 0x7f08d96f3a10>"
            ]
          },
          "metadata": {},
          "execution_count": 82
        },
        {
          "output_type": "display_data",
          "data": {
            "text/plain": [
              "<Figure size 432x288 with 1 Axes>"
            ],
            "image/png": "[encoded data removed]"
          },
          "metadata": {
            "needs_background": "light"
          }
        }
      ]
    },
    {
      "cell_type": "markdown",
      "source": [
        "Παρατηρούμε ότι η μέση διάρκεια ταξιδιού είναι μεγαλύτερη κατά το μεσημέρι. Θα μπορούσαμε να το δικαιολογήσουμε με την αυξημένη κίνηση που συναντούμε κατ' αυτή την περίοδο."
      ],
      "metadata": {
        "id": "tmaWJkOxVWAo"
      }
    },
    {
      "cell_type": "code",
      "source": [
        "#HISTOGRAM FOR MEAN TIME OF TRIP PER DAY_NAME PICK UP\n",
        "train.groupby('day_name_pickup')['trip_duration'].mean().plot(kind = 'bar')"
      ],
      "metadata": {
        "colab": {
          "base_uri": "https://localhost:8080/",
          "height": 345
        },
        "id": "XJjUbWZG6skK",
        "outputId": "96c9b80d-c49d-454f-f77c-6a6f7cf85b05"
      },
      "execution_count": 83,
      "outputs": [
        {
          "output_type": "execute_result",
          "data": {
            "text/plain": [
              "<matplotlib.axes._subplots.AxesSubplot at 0x7f08d95b2f90>"
            ]
          },
          "metadata": {},
          "execution_count": 83
        },
        {
          "output_type": "display_data",
          "data": {
            "text/plain": [
              "<Figure size 432x288 with 1 Axes>"
            ],
            "image/png": "[encoded data removed]"
          },
          "metadata": {
            "needs_background": "light"
          }
        }
      ]
    },
    {
      "cell_type": "markdown",
      "source": [
        "Παρατηρούμε ότι η μέση διάρκεια ταξιδιού είναι μεγαλύτερη την Πέμπτη."
      ],
      "metadata": {
        "id": "eqWY3KY9V-y4"
      }
    },
    {
      "cell_type": "markdown",
      "source": [
        "## Ερώτημα 4"
      ],
      "metadata": {
        "id": "yXFrRRsc7c9z"
      }
    },
    {
      "cell_type": "code",
      "source": [
        "#HISTOGRAM FOR TRIP DURATION \n",
        "import matplotlib.pylab as plt\n",
        "plot = plt.hist(train['trip_duration'], bins = 100)"
      ],
      "metadata": {
        "colab": {
          "base_uri": "https://localhost:8080/",
          "height": 265
        },
        "id": "nGJ036np7e8s",
        "outputId": "03b6526d-5044-47aa-db1b-a2cb0d097870"
      },
      "execution_count": 84,
      "outputs": [
        {
          "output_type": "display_data",
          "data": {
            "text/plain": [
              "<Figure size 432x288 with 1 Axes>"
            ],
            "image/png": "[encoded data removed]"
          },
          "metadata": {
            "needs_background": "light"
          }
        }
      ]
    },
    {
      "cell_type": "code",
      "source": [
        "import numpy as np\n",
        "train['log_trip_duration'] = np.log(train['trip_duration'])\n",
        "plot = plt.hist(train['log_trip_duration'], bins = 100)"
      ],
      "metadata": {
        "colab": {
          "base_uri": "https://localhost:8080/",
          "height": 265
        },
        "id": "YpP2fquiFvGD",
        "outputId": "17fb6c0a-41da-4f87-baa0-e5cd8353108b"
      },
      "execution_count": 85,
      "outputs": [
        {
          "output_type": "display_data",
          "data": {
            "text/plain": [
              "<Figure size 432x288 with 1 Axes>"
            ],
            "image/png": "[encoded data removed]"
          },
          "metadata": {
            "needs_background": "light"
          }
        }
      ]
    },
    {
      "cell_type": "markdown",
      "source": [
        "## Ερώτημα 5"
      ],
      "metadata": {
        "id": "Owi453ykIsoT"
      }
    },
    {
      "cell_type": "code",
      "source": [
        "#HISTOGRAM OF MEAN TIME OF TRIP PER VENDOR\n",
        "train.groupby('vendor_id')['trip_duration'].mean().plot(kind = 'bar')"
      ],
      "metadata": {
        "colab": {
          "base_uri": "https://localhost:8080/",
          "height": 294
        },
        "id": "MFx1lp1iH3er",
        "outputId": "c4a5a7db-65ea-4403-8b8f-de8769281fb1"
      },
      "execution_count": 86,
      "outputs": [
        {
          "output_type": "execute_result",
          "data": {
            "text/plain": [
              "<matplotlib.axes._subplots.AxesSubplot at 0x7f08d9645e50>"
            ]
          },
          "metadata": {},
          "execution_count": 86
        },
        {
          "output_type": "display_data",
          "data": {
            "text/plain": [
              "<Figure size 432x288 with 1 Axes>"
            ],
            "image/png": "[encoded data removed]"
          },
          "metadata": {
            "needs_background": "light"
          }
        }
      ]
    },
    {
      "cell_type": "markdown",
      "source": [
        "## Ερώτημα 6"
      ],
      "metadata": {
        "id": "RvoX9yLqJIdM"
      }
    },
    {
      "cell_type": "code",
      "source": [
        "#MEAN TIME OF TRIP PER DAY_PERIOD PICK UP\n",
        "mean_time = train.groupby('passenger_count')['trip_duration'].mean()\n",
        "print(mean_time)"
      ],
      "metadata": {
        "colab": {
          "base_uri": "https://localhost:8080/"
        },
        "id": "qhCQMU3zJN1M",
        "outputId": "7d7260f3-37d6-42dc-b988-3c8662c6918b"
      },
      "execution_count": 87,
      "outputs": [
        {
          "output_type": "stream",
          "name": "stdout",
          "text": [
            "passenger_count\n",
            "0    256.023256\n",
            "1    813.125371\n",
            "2    863.162575\n",
            "3    854.087507\n",
            "4    877.430226\n",
            "5    832.208717\n",
            "6    823.179864\n",
            "Name: trip_duration, dtype: float64\n"
          ]
        }
      ]
    },
    {
      "cell_type": "markdown",
      "source": [
        "Βλέπουμε με μεγάλο πλήθος ατόμων, το ταξίδι διαρκεί περισσότερο, ενώ όταν είναι λιγότερα τα άτομα είναι μικρότερη η διάρκειά του. Στη μέγιστη περίπτωση, βλέπουμε ότι το ταξίδι διαρκεί ακόμη περισσότερο με το πλήθος ατόμων να είναι 4, ενώ στην ελάχιστη περίπτωση βλέπουμε τον οδηγό να ταξιδεύει μόνος του."
      ],
      "metadata": {
        "id": "TbiwLLQuNXZj"
      }
    },
    {
      "cell_type": "markdown",
      "source": [
        "## Ερώτημα 7"
      ],
      "metadata": {
        "id": "tAUxjtKuPPMP"
      }
    },
    {
      "cell_type": "code",
      "source": [
        "#HAVERSINE\n",
        "def haversine(lat_up, lon_up, lat_off, lon_off):     \n",
        "    R = 6371000       \n",
        "    dLat, dLon, lat_up, lat_off = np.radians(lat_off - lat_up), np.radians(lon_off - lon_up), np.radians(lat_up), np.radians(lat_off)     \n",
        "    \n",
        "    a =  np.sin(dLat/2) ** 2 + np.cos(lat_up) * np.cos(lat_off) * np.sin(dLon/2) ** 2     \n",
        "    c = 2 * np.arcsin(np.sqrt(a))          \n",
        "    return R * c"
      ],
      "metadata": {
        "id": "lgjpHOq6Uw8P"
      },
      "execution_count": 88,
      "outputs": []
    },
    {
      "cell_type": "code",
      "source": [
        "#MANHATTAN DISTANCE FROM DEGREES TO METERS USING HARVISINE\n",
        "def manhattan_dist(lat_up, lon_up, lat_off, lon_off):\n",
        "    p = np.stack([lat_up, lon_up], axis = 1)\n",
        "    d = np.stack([lat_off, lon_off], axis = 1)\n",
        "    \n",
        "    theta1 = np.radians(-28.904)\n",
        "    theta2 = np.radians(28.904)\n",
        "    \n",
        "    R1 = np.array([[np.cos(theta1), np.sin(theta1)], [-np.sin(theta1), np.cos(theta1)]])\n",
        "    R2 = np.array([[np.cos(theta2), np.sin(theta2)], [-np.sin(theta2), np.cos(theta2)]])\n",
        "\n",
        "    pT = R1 @ p.T  \n",
        "    dT = R1 @ d.T  \n",
        "\n",
        "    vT = np.stack((pT[0,:], dT[1,:]))\n",
        "    v = R2 @ vT\n",
        "\n",
        "    return (haversine(p.T[0], p.T[1], v[0], v[1]) + haversine(v[0], v[1], d.T[0], d.T[1]))"
      ],
      "metadata": {
        "id": "f7AjkG16Uygh"
      },
      "execution_count": 89,
      "outputs": []
    },
    {
      "cell_type": "code",
      "source": [
        "train['manhattan'] = manhattan_dist(train['pickup_latitude'], train['pickup_longitude'], train['dropoff_latitude'], train['dropoff_longitude'])\n",
        "test['manhattan'] = manhattan_dist(test['pickup_latitude'], test['pickup_longitude'], test['dropoff_latitude'], test['dropoff_longitude'])"
      ],
      "metadata": {
        "id": "1hnVNkX4VkoP"
      },
      "execution_count": 90,
      "outputs": []
    },
    {
      "cell_type": "markdown",
      "source": [
        "**ΑΠΕΙΚΟΝΙΖΟΝΤΕ ΜΟΝΟ ΤΑ ΙΣΤΟΓΡΑΜΜΑΤΑ ΤΩΝ PICK UP DAYS ΚΑΘΩΣ ΤΑ ΙΣΤΟΓΡΑΜΜΑΤΑ ΤΩΝ DROP OFF DAYS ΕΙΝΑΙ ΤΑ ΙΔΙΑ**"
      ],
      "metadata": {
        "id": "rrbgMRZ6WeWK"
      }
    },
    {
      "cell_type": "code",
      "source": [
        "#HISTOGRAM FOR MEAN DISTANCE OF TRIP PER DAY_NAME PICKUP\n",
        "train.groupby(train['day_name_pickup'])['manhattan'].mean().plot(kind = 'bar')"
      ],
      "metadata": {
        "colab": {
          "base_uri": "https://localhost:8080/",
          "height": 345
        },
        "id": "wyWcHzBHYJep",
        "outputId": "ad1242b5-50fc-4acb-efbc-816cc7369e4d"
      },
      "execution_count": 91,
      "outputs": [
        {
          "output_type": "execute_result",
          "data": {
            "text/plain": [
              "<matplotlib.axes._subplots.AxesSubplot at 0x7f08d9403c50>"
            ]
          },
          "metadata": {},
          "execution_count": 91
        },
        {
          "output_type": "display_data",
          "data": {
            "text/plain": [
              "<Figure size 432x288 with 1 Axes>"
            ],
            "image/png": "[encoded data removed]"
          },
          "metadata": {
            "needs_background": "light"
          }
        }
      ]
    },
    {
      "cell_type": "code",
      "source": [
        "#HISTOGRAM FOR TRIP DISTANCE TO TRIP DURATION\n",
        "plt.scatter(train['manhattan'], train['trip_duration'], color = 'red')"
      ],
      "metadata": {
        "colab": {
          "base_uri": "https://localhost:8080/",
          "height": 284
        },
        "id": "PW7HXuckbqYH",
        "outputId": "e442b213-174b-4ae5-8c4e-8410d5d57deb"
      },
      "execution_count": 92,
      "outputs": [
        {
          "output_type": "execute_result",
          "data": {
            "text/plain": [
              "<matplotlib.collections.PathCollection at 0x7f08d93d2f50>"
            ]
          },
          "metadata": {},
          "execution_count": 92
        },
        {
          "output_type": "display_data",
          "data": {
            "text/plain": [
              "<Figure size 432x288 with 1 Axes>"
            ],
            "image/png": "[encoded data removed]"
          },
          "metadata": {
            "needs_background": "light"
          }
        }
      ]
    },
    {
      "cell_type": "markdown",
      "source": [
        "##Ερώτημα 8"
      ],
      "metadata": {
        "id": "D25moY43fb9b"
      }
    },
    {
      "cell_type": "code",
      "source": [
        "#HISTOGRAM FOR MEAN VELOCITY PER HOUR\n",
        "(train['manhattan'].sum() / train.groupby('hour_pickup')['trip_duration'].sum()).plot(kind = 'bar')"
      ],
      "metadata": {
        "colab": {
          "base_uri": "https://localhost:8080/",
          "height": 300
        },
        "id": "8JYyJBtQff0F",
        "outputId": "0da5568d-ff40-4de1-8a84-4a17ec2b130c"
      },
      "execution_count": 93,
      "outputs": [
        {
          "output_type": "execute_result",
          "data": {
            "text/plain": [
              "<matplotlib.axes._subplots.AxesSubplot at 0x7f08cf3aa5d0>"
            ]
          },
          "metadata": {},
          "execution_count": 93
        },
        {
          "output_type": "display_data",
          "data": {
            "text/plain": [
              "<Figure size 432x288 with 1 Axes>"
            ],
            "image/png": "[encoded data removed]"
          },
          "metadata": {
            "needs_background": "light"
          }
        }
      ]
    },
    {
      "cell_type": "code",
      "source": [
        "#HISTOGRAM FOR MEAN VELOCITY PER DAY NAME\n",
        "(train['manhattan'].sum() / train.groupby('day_name_pickup')['trip_duration'].sum()).plot(kind = 'bar')"
      ],
      "metadata": {
        "colab": {
          "base_uri": "https://localhost:8080/",
          "height": 345
        },
        "id": "vFDR-c7ajCO2",
        "outputId": "aa541bd7-b57f-40d5-e3a9-09fd8bd64dbd"
      },
      "execution_count": 94,
      "outputs": [
        {
          "output_type": "execute_result",
          "data": {
            "text/plain": [
              "<matplotlib.axes._subplots.AxesSubplot at 0x7f08d7875710>"
            ]
          },
          "metadata": {},
          "execution_count": 94
        },
        {
          "output_type": "display_data",
          "data": {
            "text/plain": [
              "<Figure size 432x288 with 1 Axes>"
            ],
            "image/png": "[encoded data removed]"
          },
          "metadata": {
            "needs_background": "light"
          }
        }
      ]
    },
    {
      "cell_type": "code",
      "source": [
        "#HISTOGRAM FOR MEAN VELOCITY PER MONTH\n",
        "(train['manhattan'].sum() / train.groupby('month_pickup')['trip_duration'].sum()).plot(kind = 'bar')"
      ],
      "metadata": {
        "colab": {
          "base_uri": "https://localhost:8080/",
          "height": 294
        },
        "id": "uTrc4YMEjO8D",
        "outputId": "d5345b33-5323-4ed1-c213-62515a53b4a1"
      },
      "execution_count": 95,
      "outputs": [
        {
          "output_type": "execute_result",
          "data": {
            "text/plain": [
              "<matplotlib.axes._subplots.AxesSubplot at 0x7f08d9447b50>"
            ]
          },
          "metadata": {},
          "execution_count": 95
        },
        {
          "output_type": "display_data",
          "data": {
            "text/plain": [
              "<Figure size 432x288 with 1 Axes>"
            ],
            "image/png": "[encoded data removed]"
          },
          "metadata": {
            "needs_background": "light"
          }
        }
      ]
    },
    {
      "cell_type": "markdown",
      "source": [
        "##Ερώτημα 9"
      ],
      "metadata": {
        "id": "K1-Xc9gckCmC"
      }
    },
    {
      "cell_type": "code",
      "source": [
        "#SCATTER FOR PICK UP\n",
        "plt.scatter(train['pickup_latitude'], train['pickup_longitude'], color = 'blue')"
      ],
      "metadata": {
        "colab": {
          "base_uri": "https://localhost:8080/",
          "height": 282
        },
        "id": "VRBxhJw2kGkb",
        "outputId": "69be88c4-c7c0-49a4-cfa3-6a06ecd1add1"
      },
      "execution_count": 96,
      "outputs": [
        {
          "output_type": "execute_result",
          "data": {
            "text/plain": [
              "<matplotlib.collections.PathCollection at 0x7f08d9490b90>"
            ]
          },
          "metadata": {},
          "execution_count": 96
        },
        {
          "output_type": "display_data",
          "data": {
            "text/plain": [
              "<Figure size 432x288 with 1 Axes>"
            ],
            "image/png": "[encoded data removed]"
          },
          "metadata": {
            "needs_background": "light"
          }
        }
      ]
    },
    {
      "cell_type": "code",
      "source": [
        "#SCATTER FOR DROP OFF\n",
        "plt.scatter(train['dropoff_latitude'], train['dropoff_longitude'], color = 'blue')"
      ],
      "metadata": {
        "colab": {
          "base_uri": "https://localhost:8080/",
          "height": 282
        },
        "id": "CNizmsbrkUW3",
        "outputId": "f7a557f3-c3ee-4b91-93b0-da18281bcef4"
      },
      "execution_count": 97,
      "outputs": [
        {
          "output_type": "execute_result",
          "data": {
            "text/plain": [
              "<matplotlib.collections.PathCollection at 0x7f08d91d89d0>"
            ]
          },
          "metadata": {},
          "execution_count": 97
        },
        {
          "output_type": "display_data",
          "data": {
            "text/plain": [
              "<Figure size 432x288 with 1 Axes>"
            ],
            "image/png": "[encoded data removed]"
          },
          "metadata": {
            "needs_background": "light"
          }
        }
      ]
    },
    {
      "cell_type": "markdown",
      "source": [
        "#2. CLUSTERING AND PREDICTIONS"
      ],
      "metadata": {
        "id": "QAgm0zoalUoa"
      }
    },
    {
      "cell_type": "markdown",
      "source": [
        "##Ερώτημα 1"
      ],
      "metadata": {
        "id": "FXeeyNaq1Lp6"
      }
    },
    {
      "cell_type": "code",
      "source": [
        "from sklearn.cluster import KMeans\n",
        "\n",
        "X = np.asarray(train['pickup_latitude']).reshape(1149733, 1)\n",
        "y = np.asarray(train['pickup_longitude']).reshape(1149733, 1)\n",
        "\n",
        "\n",
        "\n",
        "distortions = []\n",
        "K = range(1,10)\n",
        "for k in K:\n",
        "  kmeans = KMeans(n_clusters=k)\n",
        "  kmeans.fit(X, y)\n",
        "  distortions.append(kmeans.inertia_)"
      ],
      "metadata": {
        "id": "clPS39FwlvyI"
      },
      "execution_count": 98,
      "outputs": []
    },
    {
      "cell_type": "code",
      "source": [
        "plt.figure(figsize=(16,8))\n",
        "plt.plot(K, distortions, 'bx-')\n",
        "plt.xlabel('k')\n",
        "plt.ylabel('Distortion')\n",
        "plt.title('The Elbow Method showing the optimal k')"
      ],
      "metadata": {
        "colab": {
          "base_uri": "https://localhost:8080/",
          "height": 530
        },
        "id": "LJMrVCslrtdo",
        "outputId": "7aced90d-bf5a-4ff6-bbcb-1c7005c61943"
      },
      "execution_count": 99,
      "outputs": [
        {
          "output_type": "execute_result",
          "data": {
            "text/plain": [
              "Text(0.5, 1.0, 'The Elbow Method showing the optimal k')"
            ]
          },
          "metadata": {},
          "execution_count": 99
        },
        {
          "output_type": "display_data",
          "data": {
            "text/plain": [
              "<Figure size 1152x576 with 1 Axes>"
            ],
            "image/png": "[encoded data removed]"
          },
          "metadata": {
            "needs_background": "light"
          }
        }
      ]
    },
    {
      "cell_type": "code",
      "source": [
        "lat =  np.asarray(train['pickup_latitude'])\n",
        "lon = np.asarray(train['pickup_longitude'])\n",
        "X = np.vstack((lon, lat)).T\n",
        "\n",
        "kmeans = KMeans(n_clusters=4)\n",
        "kmeans.fit(X)\n",
        "y_kmeans = kmeans.predict(X)"
      ],
      "metadata": {
        "id": "2lgHPGmCswTb"
      },
      "execution_count": 100,
      "outputs": []
    },
    {
      "cell_type": "code",
      "source": [
        "plt.scatter(X[:, 0], X[:, 1], c=y_kmeans, s=0.5, cmap='viridis')\n",
        "\n",
        "centers = kmeans.cluster_centers_\n",
        "plt.scatter(centers[:, 0], centers[:, 1], c='red', s=100, alpha=0.5);"
      ],
      "metadata": {
        "colab": {
          "base_uri": "https://localhost:8080/",
          "height": 265
        },
        "id": "nO9fouCjtjeF",
        "outputId": "4ef5bf50-f471-4f72-e8fa-6df313101a94"
      },
      "execution_count": 101,
      "outputs": [
        {
          "output_type": "display_data",
          "data": {
            "text/plain": [
              "<Figure size 432x288 with 1 Axes>"
            ],
            "image/png": "[encoded data removed]"
          },
          "metadata": {
            "needs_background": "light"
          }
        }
      ]
    },
    {
      "cell_type": "markdown",
      "source": [
        "##Ερώτημα 2"
      ],
      "metadata": {
        "id": "ozKvvypn1Q4e"
      }
    },
    {
      "cell_type": "code",
      "source": [
        "feature_names = [\"vendor_id\", \"passenger_count\",  \"pickup_longitude\",  \"pickup_latitude\", \"dropoff_longitude\", \"dropoff_latitude\", \"day_name_pickup\", \"month_pickup\", \"season_pickup\", \"day_period_pickup\", \"hour_pickup\", \"manhattan\"]\n",
        "\n",
        "new_train = train.sample(frac=0.1)\n",
        "X_train = new_train[feature_names]\n",
        "\n",
        "X_train.loc[X_train['day_name_pickup'] == \"Monday\", \"day_name_pickup\"] = 0\n",
        "X_train.loc[X_train['day_name_pickup'] == \"Tuesday\", \"day_name_pickup\"] = 1\n",
        "X_train.loc[X_train['day_name_pickup'] == \"Wednesday\", \"day_name_pickup\"] = 2\n",
        "X_train.loc[X_train['day_name_pickup'] == \"Thursday\", \"day_name_pickup\"] = 3\n",
        "X_train.loc[X_train['day_name_pickup'] == \"Friday\", \"day_name_pickup\"] = 4\n",
        "X_train.loc[X_train['day_name_pickup'] == \"Saturday\", \"day_name_pickup\"] = 5\n",
        "X_train.loc[X_train['day_name_pickup'] == \"Sunday\", \"day_name_pickup\"] = 6\n",
        "\n",
        "X_train.loc[X_train['season_pickup'] == \"Winter\", \"season_pickup\"] = 0\n",
        "X_train.loc[X_train['season_pickup'] == \"Spring\", \"season_pickup\"] = 1\n",
        "X_train.loc[X_train['season_pickup'] == \"Summer\", \"season_pickup\"] = 2\n",
        "X_train.loc[X_train['season_pickup'] == \"Autumn\", \"season_pickup\"] = 3\n",
        "\n",
        "X_train.loc[X_train['day_period_pickup'] == \"Morning\", \"day_period_pickup\"] = 0\n",
        "X_train.loc[X_train['day_period_pickup'] == \"Afternoon\", \"day_period_pickup\"] = 1\n",
        "X_train.loc[X_train['day_period_pickup'] == \"Evening\", \"day_period_pickup\"] = 2\n",
        "X_train.loc[X_train['day_period_pickup'] == \"Late_Night\", \"day_period_pickup\"] = 3\n",
        "\n",
        "X_test = test[feature_names]\n",
        "\n",
        "X_test.loc[X_test['day_name_pickup'] == \"Monday\", \"day_name_pickup\"] = 0\n",
        "X_test.loc[X_test['day_name_pickup'] == \"Tuesday\", \"day_name_pickup\"] = 1\n",
        "X_test.loc[X_test['day_name_pickup'] == \"Wednesday\", \"day_name_pickup\"] = 2\n",
        "X_test.loc[X_test['day_name_pickup'] == \"Thursday\", \"day_name_pickup\"] = 3\n",
        "X_test.loc[X_test['day_name_pickup'] == \"Friday\", \"day_name_pickup\"] = 4\n",
        "X_test.loc[X_test['day_name_pickup'] == \"Saturday\", \"day_name_pickup\"] = 5\n",
        "X_test.loc[X_test['day_name_pickup'] == \"Sunday\", \"day_name_pickup\"] = 6\n",
        "\n",
        "X_test.loc[X_test['season_pickup'] == \"Winter\", \"season_pickup\"] = 0\n",
        "X_test.loc[X_test['season_pickup'] == \"Spring\", \"season_pickup\"] = 1\n",
        "X_test.loc[X_test['season_pickup'] == \"Summer\", \"season_pickup\"] = 2\n",
        "X_test.loc[X_test['season_pickup'] == \"Autumn\", \"season_pickup\"] = 3\n",
        "\n",
        "X_test.loc[X_test['day_period_pickup'] == \"Morning\", \"day_period_pickup\"] = 0\n",
        "X_test.loc[X_test['day_period_pickup'] == \"Afternoon\", \"day_period_pickup\"] = 1\n",
        "X_test.loc[X_test['day_period_pickup'] == \"Evening\", \"day_period_pickup\"] = 2\n",
        "X_test.loc[X_test['day_period_pickup'] == \"Late_Night\", \"day_period_pickup\"] = 3"
      ],
      "metadata": {
        "id": "mCeHr8v41ZyO"
      },
      "execution_count": null,
      "outputs": []
    },
    {
      "cell_type": "code",
      "source": [
        "#RANDOM FOREST REGRESSOR\n",
        "from sklearn.ensemble import RandomForestRegressor\n",
        "clf = RandomForestRegressor()\n",
        "clf.fit(X_train, new_train['log_trip_duration'])"
      ],
      "metadata": {
        "colab": {
          "base_uri": "https://localhost:8080/"
        },
        "id": "VIprEAWLr4Fa",
        "outputId": "df7757f2-ddf5-42cd-f2e5-7f5d578cb139"
      },
      "execution_count": null,
      "outputs": [
        {
          "output_type": "execute_result",
          "data": {
            "text/plain": [
              "RandomForestRegressor()"
            ]
          },
          "metadata": {},
          "execution_count": 262
        }
      ]
    },
    {
      "cell_type": "code",
      "source": [
        "y_pred_1 = clf.predict(X_test)"
      ],
      "metadata": {
        "id": "hQqEQa1w6Ib4"
      },
      "execution_count": null,
      "outputs": []
    },
    {
      "cell_type": "code",
      "source": [
        "import sklearn.metrics as metrics\n",
        "\n",
        "y = np.log(target['trip_duration'])\n",
        "\n",
        "mae = metrics.mean_absolute_error(y, y_pred_1)\n",
        "mse = metrics.mean_squared_error(y, y_pred_1)\n",
        "\n",
        "print(\"Results of RandomForestRegressor:\")\n",
        "print(\"MAE: \", mae)\n",
        "print(\"MSE: \", mse)"
      ],
      "metadata": {
        "colab": {
          "base_uri": "https://localhost:8080/"
        },
        "id": "kCsU1oG1DZM-",
        "outputId": "1cc9f672-e6cd-41cf-fbaf-b29612c0fbfa"
      },
      "execution_count": null,
      "outputs": [
        {
          "output_type": "stream",
          "name": "stdout",
          "text": [
            "Results of RandomForestRegressor:\n",
            "MAE:  0.2844504675634876\n",
            "MSE:  0.19178987014222149\n"
          ]
        }
      ]
    },
    {
      "cell_type": "code",
      "source": [
        "#IMPORTANT FEATURES\n",
        "importances = clf.feature_importances_\n",
        "\n",
        "forest_importances = pd.Series(importances, index=feature_names)\n",
        "\n",
        "fig, ax = plt.subplots()\n",
        "forest_importances.plot.bar(ax=ax)\n",
        "fig.tight_layout()"
      ],
      "metadata": {
        "colab": {
          "base_uri": "https://localhost:8080/",
          "height": 297
        },
        "id": "Iz60e13o6dAL",
        "outputId": "55e041ea-b409-4a5a-a322-0cd64591c6d3"
      },
      "execution_count": null,
      "outputs": [
        {
          "output_type": "display_data",
          "data": {
            "text/plain": [
              "<Figure size 432x288 with 1 Axes>"
            ],
            "image/png": "[encoded data removed]"
          },
          "metadata": {
            "needs_background": "light"
          }
        }
      ]
    },
    {
      "cell_type": "markdown",
      "source": [
        "##Ερώτημα 3"
      ],
      "metadata": {
        "id": "hNxq1VyJ0I6H"
      }
    },
    {
      "cell_type": "code",
      "source": [
        "#GRIDSEARCHCV\n",
        "from sklearn.model_selection import GridSearchCV\n",
        "\n",
        "param_grid = [{'n_estimators': [200, 500], 'max_depth': [4,5,6,7,8] ,'max_features': [2, 5 ,8]}]\n",
        "\n",
        "grid = GridSearchCV(clf, param_grid)\n",
        "grid.fit(X_train, new_train['log_trip_duration'])"
      ],
      "metadata": {
        "colab": {
          "base_uri": "https://localhost:8080/"
        },
        "id": "pOrUoEhw7CB_",
        "outputId": "d9d27f20-a76b-44c6-a400-837cb184b297"
      },
      "execution_count": null,
      "outputs": [
        {
          "output_type": "execute_result",
          "data": {
            "text/plain": [
              "GridSearchCV(estimator=RandomForestRegressor(max_depth=10),\n",
              "             param_grid=[{'max_depth': [4, 5, 6, 7, 8],\n",
              "                          'max_features': [2, 5, 8],\n",
              "                          'n_estimators': [200, 500]}])"
            ]
          },
          "metadata": {},
          "execution_count": 243
        }
      ]
    },
    {
      "cell_type": "code",
      "source": [
        "print(grid.best_params_)"
      ],
      "metadata": {
        "colab": {
          "base_uri": "https://localhost:8080/"
        },
        "id": "cIL56cEWXv1Y",
        "outputId": "ee583fed-a241-4262-cc6a-de6e2de9ddaf"
      },
      "execution_count": null,
      "outputs": [
        {
          "output_type": "stream",
          "name": "stdout",
          "text": [
            "{'max_depth': 8, 'max_features': 8, 'n_estimators': 500}\n"
          ]
        }
      ]
    },
    {
      "cell_type": "code",
      "source": [
        "y_pred_2 = grid.predict(X_test)"
      ],
      "metadata": {
        "id": "P_ifrxjS7tnW"
      },
      "execution_count": null,
      "outputs": []
    },
    {
      "cell_type": "code",
      "source": [
        "mae = metrics.mean_absolute_error(y, y_pred_2)\n",
        "mse = metrics.mean_squared_error(y, y_pred_2)\n",
        "\n",
        "print(\"Results of RandomForestRegressor:\")\n",
        "print(\"MAE: \", mae)\n",
        "print(\"MSE: \", mse)"
      ],
      "metadata": {
        "colab": {
          "base_uri": "https://localhost:8080/"
        },
        "id": "w_9pF5GeSHUr",
        "outputId": "7b30dd21-bd79-47de-c984-c70112b7cf1b"
      },
      "execution_count": null,
      "outputs": [
        {
          "output_type": "stream",
          "name": "stdout",
          "text": [
            "Results of RandomForestRegressor:\n",
            "MAE:  0.3162772671738845\n",
            "MSE:  0.2165933973251919\n"
          ]
        }
      ]
    },
    {
      "cell_type": "markdown",
      "source": [
        "##Ερώτημα 4"
      ],
      "metadata": {
        "id": "MD7qVPdz0OwF"
      }
    },
    {
      "cell_type": "code",
      "source": [
        "#RANDOM FOREST WITH NEW PARAMETERS\n",
        "clf = RandomForestRegressor(n_estimators= 50, max_depth= 10, max_features= 'auto')\n",
        "clf.fit(X_train, new_train['log_trip_duration'])"
      ],
      "metadata": {
        "colab": {
          "base_uri": "https://localhost:8080/"
        },
        "id": "jkzO1zB5RtnH",
        "outputId": "3b051d53-1e8e-4911-d8db-31e2a345114d"
      },
      "execution_count": null,
      "outputs": [
        {
          "output_type": "execute_result",
          "data": {
            "text/plain": [
              "RandomForestRegressor(max_depth=10, n_estimators=50)"
            ]
          },
          "metadata": {},
          "execution_count": 258
        }
      ]
    },
    {
      "cell_type": "code",
      "source": [
        "y_pred_3 = clf.predict(X_test)"
      ],
      "metadata": {
        "id": "ckSLOb6dSLh1"
      },
      "execution_count": null,
      "outputs": []
    },
    {
      "cell_type": "code",
      "source": [
        "mae = metrics.mean_absolute_error(y, y_pred_3)\n",
        "mse = metrics.mean_squared_error(y, y_pred_3)\n",
        "\n",
        "print(\"Results of RandomForestRegressor:\")\n",
        "print(\"MAE: \", mae)\n",
        "print(\"MSE: \", mse)"
      ],
      "metadata": {
        "colab": {
          "base_uri": "https://localhost:8080/"
        },
        "id": "itPv5_P1SIlV",
        "outputId": "ce33d2c2-ca03-49c8-9e21-40b7333f202f"
      },
      "execution_count": null,
      "outputs": [
        {
          "output_type": "stream",
          "name": "stdout",
          "text": [
            "Results of RandomForestRegressor:\n",
            "MAE:  0.30500340281730026\n",
            "MSE:  0.20742694046567112\n"
          ]
        }
      ]
    }
  ]
}